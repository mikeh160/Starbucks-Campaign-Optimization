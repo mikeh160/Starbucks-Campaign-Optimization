{
 "cells": [
  {
   "cell_type": "markdown",
   "metadata": {},
   "source": [
    "## Portfolio Exercise: Starbucks\n",
    "<br>\n",
    "\n",
    "<img src=\"https://opj.ca/wp-content/uploads/2018/02/New-Starbucks-Logo-1200x969.jpg\" width=\"200\" height=\"200\">\n",
    "<br>\n",
    "<br>\n",
    " \n",
    "#### Background Information\n",
    "\n",
    "The dataset you will be provided in this portfolio exercise was originally used as a take-home assignment provided by Starbucks for their job candidates. The data for this exercise consists of about 120,000 data points split in a 2:1 ratio among training and test files. In the experiment simulated by the data, an advertising promotion was tested to see if it would bring more customers to purchase a specific product priced at $10. Since it costs the company 0.15 to send out each promotion, it would be best to limit that promotion only to those that are most receptive to the promotion. Each data point includes one column indicating whether or not an individual was sent a promotion for the product, and one column indicating whether or not that individual eventually purchased that product. Each individual also has seven additional features associated with them, which are provided abstractly as V1-V7.\n",
    "\n",
    "#### Optimization Strategy\n",
    "\n",
    "Your task is to use the training data to understand what patterns in V1-V7 to indicate that a promotion should be provided to a user. Specifically, your goal is to maximize the following metrics:\n",
    "\n",
    "* **Incremental Response Rate (IRR)** \n",
    "\n",
    "IRR depicts how many more customers purchased the product with the promotion, as compared to if they didn't receive the promotion. Mathematically, it's the ratio of the number of purchasers in the promotion group to the total number of customers in the purchasers group (_treatment_) minus the ratio of the number of purchasers in the non-promotional group to the total number of customers in the non-promotional group (_control_).\n",
    "\n",
    "$$ IRR = \\frac{purch_{treat}}{cust_{treat}} - \\frac{purch_{ctrl}}{cust_{ctrl}} $$\n",
    "\n",
    "\n",
    "* **Net Incremental Revenue (NIR)**\n",
    "\n",
    "NIR depicts how much is made (or lost) by sending out the promotion. Mathematically, this is 10 times the total number of purchasers that received the promotion minus 0.15 times the number of promotions sent out, minus 10 times the number of purchasers who were not given the promotion.\n",
    "\n",
    "$$ NIR = (10\\cdot purch_{treat} - 0.15 \\cdot cust_{treat}) - 10 \\cdot purch_{ctrl}$$\n",
    "\n",
    "For a full description of what Starbucks provides to candidates see the [instructions available here](https://drive.google.com/open?id=18klca9Sef1Rs6q8DW4l7o349r8B70qXM).\n",
    "\n",
    "Below you can find the training data provided.  Explore the data and different optimization strategies.\n",
    "\n",
    "#### How To Test Your Strategy?\n",
    "\n",
    "When you feel like you have an optimization strategy, complete the `promotion_strategy` function to pass to the `test_results` function.  \n",
    "From past data, we know there are four possible outomes:\n",
    "\n",
    "Table of actual promotion vs. predicted promotion customers:  \n",
    "\n",
    "<table>\n",
    "<tr><th></th><th colspan = '2'>Actual</th></tr>\n",
    "<tr><th>Predicted</th><th>Yes</th><th>No</th></tr>\n",
    "<tr><th>Yes</th><td>I</td><td>II</td></tr>\n",
    "<tr><th>No</th><td>III</td><td>IV</td></tr>\n",
    "</table>\n",
    "\n",
    "The metrics are only being compared for the individuals we predict should obtain the promotion – that is, quadrants I and II.  Since the first set of individuals that receive the promotion (in the training set) receive it randomly, we can expect that quadrants I and II will have approximately equivalent participants.  \n",
    "\n",
    "Comparing quadrant I to II then gives an idea of how well your promotion strategy will work in the future. \n",
    "\n",
    "Get started by reading in the data below.  See how each variable or combination of variables along with a promotion influences the chance of purchasing.  When you feel like you have a strategy for who should receive a promotion, test your strategy against the test dataset used in the final `test_results` function."
   ]
  },
  {
   "cell_type": "markdown",
   "metadata": {},
   "source": [
    "## 1. Loading Up Libraries and Data"
   ]
  },
  {
   "cell_type": "code",
   "execution_count": 1,
   "metadata": {},
   "outputs": [
    {
     "data": {
      "text/html": [
       "<div>\n",
       "<style scoped>\n",
       "    .dataframe tbody tr th:only-of-type {\n",
       "        vertical-align: middle;\n",
       "    }\n",
       "\n",
       "    .dataframe tbody tr th {\n",
       "        vertical-align: top;\n",
       "    }\n",
       "\n",
       "    .dataframe thead th {\n",
       "        text-align: right;\n",
       "    }\n",
       "</style>\n",
       "<table border=\"1\" class=\"dataframe\">\n",
       "  <thead>\n",
       "    <tr style=\"text-align: right;\">\n",
       "      <th></th>\n",
       "      <th>ID</th>\n",
       "      <th>Promotion</th>\n",
       "      <th>purchase</th>\n",
       "      <th>V1</th>\n",
       "      <th>V2</th>\n",
       "      <th>V3</th>\n",
       "      <th>V4</th>\n",
       "      <th>V5</th>\n",
       "      <th>V6</th>\n",
       "      <th>V7</th>\n",
       "    </tr>\n",
       "  </thead>\n",
       "  <tbody>\n",
       "    <tr>\n",
       "      <th>0</th>\n",
       "      <td>1</td>\n",
       "      <td>No</td>\n",
       "      <td>0</td>\n",
       "      <td>2</td>\n",
       "      <td>30.443518</td>\n",
       "      <td>-1.165083</td>\n",
       "      <td>1</td>\n",
       "      <td>1</td>\n",
       "      <td>3</td>\n",
       "      <td>2</td>\n",
       "    </tr>\n",
       "    <tr>\n",
       "      <th>1</th>\n",
       "      <td>3</td>\n",
       "      <td>No</td>\n",
       "      <td>0</td>\n",
       "      <td>3</td>\n",
       "      <td>32.159350</td>\n",
       "      <td>-0.645617</td>\n",
       "      <td>2</td>\n",
       "      <td>3</td>\n",
       "      <td>2</td>\n",
       "      <td>2</td>\n",
       "    </tr>\n",
       "    <tr>\n",
       "      <th>2</th>\n",
       "      <td>4</td>\n",
       "      <td>No</td>\n",
       "      <td>0</td>\n",
       "      <td>2</td>\n",
       "      <td>30.431659</td>\n",
       "      <td>0.133583</td>\n",
       "      <td>1</td>\n",
       "      <td>1</td>\n",
       "      <td>4</td>\n",
       "      <td>2</td>\n",
       "    </tr>\n",
       "    <tr>\n",
       "      <th>3</th>\n",
       "      <td>5</td>\n",
       "      <td>No</td>\n",
       "      <td>0</td>\n",
       "      <td>0</td>\n",
       "      <td>26.588914</td>\n",
       "      <td>-0.212728</td>\n",
       "      <td>2</td>\n",
       "      <td>1</td>\n",
       "      <td>4</td>\n",
       "      <td>2</td>\n",
       "    </tr>\n",
       "    <tr>\n",
       "      <th>4</th>\n",
       "      <td>8</td>\n",
       "      <td>Yes</td>\n",
       "      <td>0</td>\n",
       "      <td>3</td>\n",
       "      <td>28.044332</td>\n",
       "      <td>-0.385883</td>\n",
       "      <td>1</td>\n",
       "      <td>1</td>\n",
       "      <td>2</td>\n",
       "      <td>2</td>\n",
       "    </tr>\n",
       "  </tbody>\n",
       "</table>\n",
       "</div>"
      ],
      "text/plain": [
       "   ID Promotion  purchase  V1         V2        V3  V4  V5  V6  V7\n",
       "0   1        No         0   2  30.443518 -1.165083   1   1   3   2\n",
       "1   3        No         0   3  32.159350 -0.645617   2   3   2   2\n",
       "2   4        No         0   2  30.431659  0.133583   1   1   4   2\n",
       "3   5        No         0   0  26.588914 -0.212728   2   1   4   2\n",
       "4   8       Yes         0   3  28.044332 -0.385883   1   1   2   2"
      ]
     },
     "execution_count": 1,
     "metadata": {},
     "output_type": "execute_result"
    }
   ],
   "source": [
    "# load in packages\n",
    "from itertools import combinations\n",
    "\n",
    "from test_results import test_results, score\n",
    "import numpy as np\n",
    "import pandas as pd\n",
    "import scipy as sp\n",
    "import sklearn as sk\n",
    "import scipy.stats as stats\n",
    "\n",
    "import matplotlib.pyplot as plt\n",
    "import seaborn as sns\n",
    "%matplotlib inline\n",
    "\n",
    "# load in the data\n",
    "train_data = pd.read_csv('./training.csv')\n",
    "train_data.head()"
   ]
  },
  {
   "cell_type": "code",
   "execution_count": 2,
   "metadata": {
    "scrolled": true
   },
   "outputs": [
    {
     "data": {
      "text/plain": [
       "Promotion\n",
       "No     42170\n",
       "Yes    42364\n",
       "dtype: int64"
      ]
     },
     "execution_count": 2,
     "metadata": {},
     "output_type": "execute_result"
    }
   ],
   "source": [
    "train_data.groupby(['Promotion']).size()"
   ]
  },
  {
   "cell_type": "markdown",
   "metadata": {},
   "source": [
    "Comments: The group where the promotion campaign is sent is the exerimental group, whereas the one with no campaign/promotion sent is the control group. We can see that people in the control group are just a slightly less than those in experimental group"
   ]
  },
  {
   "cell_type": "code",
   "execution_count": 3,
   "metadata": {},
   "outputs": [
    {
     "data": {
      "text/plain": [
       "Promotion  purchase\n",
       "No         0           41851\n",
       "           1             319\n",
       "Yes        0           41643\n",
       "           1             721\n",
       "dtype: int64"
      ]
     },
     "execution_count": 3,
     "metadata": {},
     "output_type": "execute_result"
    }
   ],
   "source": [
    "gp1 = train_data.groupby(['Promotion', 'purchase']).size()\n",
    "gp1"
   ]
  },
  {
   "cell_type": "markdown",
   "metadata": {},
   "source": [
    "Comments: Further analysis indicates that people in the experimental group who have purchased has increased. Could we find a p value to know whether that increase is significant? Let's find out"
   ]
  },
  {
   "cell_type": "markdown",
   "metadata": {},
   "source": [
    "## 2. Analyzing the Distribution of Data"
   ]
  },
  {
   "cell_type": "code",
   "execution_count": 4,
   "metadata": {},
   "outputs": [
    {
     "data": {
      "text/plain": [
       "Promotion  purchase  V1\n",
       "No         0         0      5302\n",
       "                     1     15701\n",
       "                     2     15605\n",
       "                     3      5243\n",
       "           1         0        40\n",
       "                     1       138\n",
       "                     2       103\n",
       "                     3        38\n",
       "Yes        0         0      5185\n",
       "                     1     15540\n",
       "                     2     15598\n",
       "                     3      5320\n",
       "           1         0        98\n",
       "                     1       252\n",
       "                     2       302\n",
       "                     3        69\n",
       "dtype: int64"
      ]
     },
     "execution_count": 4,
     "metadata": {},
     "output_type": "execute_result"
    }
   ],
   "source": [
    "gp2 = train_data.groupby(['Promotion', 'purchase', 'V1']).size()\n",
    "gp2"
   ]
  },
  {
   "cell_type": "markdown",
   "metadata": {},
   "source": [
    "Comments: V1 is some sort of variable where the in both control & experimental groups, those with 0 & 3 have less participants than those in group 1 and 2. What could this be? \n",
    "1. Could this be an age group of customers\n",
    "2. A salary bracket of customers ?\n",
    "3. Customers with membership plans?"
   ]
  },
  {
   "cell_type": "code",
   "execution_count": 5,
   "metadata": {},
   "outputs": [
    {
     "data": {
      "text/plain": [
       "Promotion  purchase\n",
       "No         0           29.969467\n",
       "           1           30.022216\n",
       "Yes        0           29.988669\n",
       "           1           30.004793\n",
       "Name: V2, dtype: float64"
      ]
     },
     "execution_count": 5,
     "metadata": {},
     "output_type": "execute_result"
    }
   ],
   "source": [
    "gp3 = train_data.groupby(['Promotion', 'purchase'])['V2'].median()\n",
    "gp3"
   ]
  },
  {
   "cell_type": "markdown",
   "metadata": {},
   "source": [
    "Comments: The median and mean for this are almost near to each other with both for control and experimental groups? What could this be ? \n",
    "\n",
    "1. Average cost incurred to customers?"
   ]
  },
  {
   "cell_type": "code",
   "execution_count": 6,
   "metadata": {},
   "outputs": [
    {
     "data": {
      "text/plain": [
       "Promotion  purchase\n",
       "No         0          -0.007828\n",
       "           1           0.088530\n",
       "Yes        0           0.009680\n",
       "           1          -0.121587\n",
       "Name: V3, dtype: float64"
      ]
     },
     "execution_count": 6,
     "metadata": {},
     "output_type": "execute_result"
    }
   ],
   "source": [
    "gp4 = train_data.groupby(['Promotion', 'purchase'])['V3'].mean()\n",
    "gp4"
   ]
  },
  {
   "cell_type": "markdown",
   "metadata": {},
   "source": [
    "Comments: Could this be the cost retrieved per customer? Unlikely because it doesn't satisfy the condition for control group. "
   ]
  },
  {
   "cell_type": "code",
   "execution_count": 7,
   "metadata": {},
   "outputs": [
    {
     "data": {
      "text/plain": [
       "Promotion  purchase  V4\n",
       "No         0         1     13385\n",
       "                     2     28466\n",
       "           1         1        98\n",
       "                     2       221\n",
       "Yes        0         1     13506\n",
       "                     2     28137\n",
       "           1         1        95\n",
       "                     2       626\n",
       "dtype: int64"
      ]
     },
     "execution_count": 7,
     "metadata": {},
     "output_type": "execute_result"
    }
   ],
   "source": [
    "gp5 = train_data.groupby(['Promotion', 'purchase', 'V4']).size()\n",
    "gp5"
   ]
  },
  {
   "cell_type": "markdown",
   "metadata": {},
   "source": [
    "Comments: Similarly, the variables V4 through V7 are ordinal variables with some form of grouping for control and experimental groups."
   ]
  },
  {
   "cell_type": "code",
   "execution_count": 8,
   "metadata": {},
   "outputs": [
    {
     "data": {
      "text/plain": [
       "<matplotlib.axes._subplots.AxesSubplot at 0x7faf35afea90>"
      ]
     },
     "execution_count": 8,
     "metadata": {},
     "output_type": "execute_result"
    },
    {
     "data": {
      "image/png": "[encoded data removed]",
      "text/plain": [
       "<matplotlib.figure.Figure at 0x7faf35afe550>"
      ]
     },
     "metadata": {
      "needs_background": "light"
     },
     "output_type": "display_data"
    }
   ],
   "source": [
    "fig, ax = plt.subplots(figsize=(8,6))\n",
    "gp4.plot(kind = 'bar', ax = ax)"
   ]
  },
  {
   "cell_type": "code",
   "execution_count": 9,
   "metadata": {
    "scrolled": true
   },
   "outputs": [
    {
     "name": "stderr",
     "output_type": "stream",
     "text": [
      "/opt/conda/lib/python3.6/site-packages/ipykernel_launcher.py:1: FutureWarning: using a dict on a Series for aggregation\n",
      "is deprecated and will be removed in a future version\n",
      "  \"\"\"Entry point for launching an IPython kernel.\n"
     ]
    },
    {
     "data": {
      "text/html": [
       "<div>\n",
       "<style scoped>\n",
       "    .dataframe tbody tr th:only-of-type {\n",
       "        vertical-align: middle;\n",
       "    }\n",
       "\n",
       "    .dataframe tbody tr th {\n",
       "        vertical-align: top;\n",
       "    }\n",
       "\n",
       "    .dataframe thead tr th {\n",
       "        text-align: left;\n",
       "    }\n",
       "\n",
       "    .dataframe thead tr:last-of-type th {\n",
       "        text-align: right;\n",
       "    }\n",
       "</style>\n",
       "<table border=\"1\" class=\"dataframe\">\n",
       "  <thead>\n",
       "    <tr>\n",
       "      <th></th>\n",
       "      <th></th>\n",
       "      <th colspan=\"2\" halign=\"left\">V1_mean</th>\n",
       "    </tr>\n",
       "    <tr>\n",
       "      <th></th>\n",
       "      <th></th>\n",
       "      <th>mean</th>\n",
       "      <th>std</th>\n",
       "    </tr>\n",
       "    <tr>\n",
       "      <th>Promotion</th>\n",
       "      <th>purchase</th>\n",
       "      <th></th>\n",
       "      <th></th>\n",
       "    </tr>\n",
       "  </thead>\n",
       "  <tbody>\n",
       "    <tr>\n",
       "      <th rowspan=\"2\" valign=\"top\">No</th>\n",
       "      <th>0</th>\n",
       "      <td>1.496738</td>\n",
       "      <td>0.868296</td>\n",
       "    </tr>\n",
       "    <tr>\n",
       "      <th>1</th>\n",
       "      <td>1.435737</td>\n",
       "      <td>0.858609</td>\n",
       "    </tr>\n",
       "    <tr>\n",
       "      <th rowspan=\"2\" valign=\"top\">Yes</th>\n",
       "      <th>0</th>\n",
       "      <td>1.505559</td>\n",
       "      <td>0.868628</td>\n",
       "    </tr>\n",
       "    <tr>\n",
       "      <th>1</th>\n",
       "      <td>1.474341</td>\n",
       "      <td>0.844735</td>\n",
       "    </tr>\n",
       "  </tbody>\n",
       "</table>\n",
       "</div>"
      ],
      "text/plain": [
       "                     V1_mean          \n",
       "                        mean       std\n",
       "Promotion purchase                    \n",
       "No        0         1.496738  0.868296\n",
       "          1         1.435737  0.858609\n",
       "Yes       0         1.505559  0.868628\n",
       "          1         1.474341  0.844735"
      ]
     },
     "execution_count": 9,
     "metadata": {},
     "output_type": "execute_result"
    }
   ],
   "source": [
    "train_data.groupby(['Promotion', 'purchase'])['V1'].agg({'V1_mean' : ['mean', 'std']})"
   ]
  },
  {
   "cell_type": "markdown",
   "metadata": {},
   "source": [
    "## 3. Hypothesis Testing"
   ]
  },
  {
   "cell_type": "markdown",
   "metadata": {},
   "source": [
    "Hypothesis Testing Steps:\n",
    "\n",
    "1. Building Funnel of Users (not to be used here)\n",
    "2. Diversion of Users (cookie based, event-based) (not to be used here)\n",
    "3. Testing for the Invariant Metric\n",
    "4. Testing for the Evaluation Metrics\n",
    "5. Correction (Bonferroni or Sidark)\n",
    "6. Experimental Size (not to be used here)\n",
    "7. Validity, Bias, Ethics (not to be used here)\n",
    "8. Analyzing Data "
   ]
  },
  {
   "cell_type": "code",
   "execution_count": 10,
   "metadata": {},
   "outputs": [
    {
     "name": "stdout",
     "output_type": "stream",
     "text": [
      "n_total: 84534\n",
      "n_control: 42170\n",
      "n_experiment: 42364\n"
     ]
    }
   ],
   "source": [
    "#Taking Out the Experimental Group, Control Group Populations\n",
    "\n",
    "n_total = train_data.shape[0]\n",
    "print('n_total:', n_total)\n",
    "\n",
    "n_control = train_data.query('Promotion == \"No\"').shape[0]\n",
    "print('n_control:', n_control)\n",
    "\n",
    "n_experiment = train_data.query('Promotion == \"Yes\"').shape[0]\n",
    "print('n_experiment:', n_experiment)"
   ]
  },
  {
   "cell_type": "markdown",
   "metadata": {},
   "source": [
    "**3.1 Testing Out Invariant Metric**\n",
    "\n",
    "We are going to find out whether there is a significant difference between populations in control group vs those in the experimental group. If there is not a significant difference, it would mean we can carry out out testing without worrying for the effects for the bias that might have been introduced should the data have been imbalanced. We have been given that \n",
    "\n",
    "The null Hypothesis $H_{0}$ states that both the control and experimental group populations come from different groups of population and have a significant difference. The alternative Hypothesis $H_{a}$ states that both population groups come from same population group and have no significant difference between them"
   ]
  },
  {
   "cell_type": "markdown",
   "metadata": {},
   "source": [
    "##### 3.1.1 Analytical Approach"
   ]
  },
  {
   "cell_type": "code",
   "execution_count": 11,
   "metadata": {},
   "outputs": [
    {
     "name": "stdout",
     "output_type": "stream",
     "text": [
      "The z-score for the Invariant Metric is -0.6638066506192843\n",
      "The probability of seeing the control group population under the null values (p_value) is 0.5068140685419046 \n"
     ]
    }
   ],
   "source": [
    "#Compute a z-score and p-value\n",
    "#Assuming a proportion/probability of 0.5 \n",
    "\n",
    "probability = 0.5\n",
    "\n",
    "standard_deviation = np.sqrt(probability * (1-probability) * n_total)\n",
    "\n",
    "z_score = ((n_control + 0.5) - probability * n_total) / standard_deviation\n",
    "\n",
    "print(\"The z-score for the Invariant Metric is {}\".format(z_score))\n",
    "print(\"The probability of seeing the control group population under the null values (p_value) is {} \".format(2 * stats.norm.cdf(z_score)))"
   ]
  },
  {
   "cell_type": "markdown",
   "metadata": {},
   "source": [
    "##### 3.1.2 BootStrapping Approach"
   ]
  },
  {
   "cell_type": "code",
   "execution_count": 12,
   "metadata": {},
   "outputs": [
    {
     "name": "stdout",
     "output_type": "stream",
     "text": [
      "The probability of seeing the control group population under the null values (p_value) is 0.50594\n"
     ]
    }
   ],
   "source": [
    "# # simulate outcomes under null, compare to observed outcome\n",
    "probability = 0.5\n",
    "n_trials = 200000\n",
    "\n",
    "samples = np.random.binomial(n_total, probability, n_trials)\n",
    "\n",
    "print(\"The probability of seeing the control group population under the null values (p_value) is {}\".format( np.logical_or(samples <= n_control, samples >= (n_total - n_control)).mean()))"
   ]
  },
  {
   "cell_type": "markdown",
   "metadata": {},
   "source": [
    "Since the p value is greater than 0.05 , therefore we reject the null hypothesis that the difference is significant between both control and experimental population groups"
   ]
  },
  {
   "cell_type": "markdown",
   "metadata": {},
   "source": [
    "## 3.2 Testing Out Evaluation Metrics"
   ]
  },
  {
   "cell_type": "markdown",
   "metadata": {},
   "source": [
    "##### 3.2.1 Incremental Response Rate (IRR)"
   ]
  },
  {
   "cell_type": "markdown",
   "metadata": {},
   "source": [
    "In order to test for the evaluation metric incremental response rate, we know that the incremental response rate (IRR) refers to the number of customers who bought the product \"with promotion\" as opposed to those who did NOT buy the product and DID NOT receive the promotion. \n",
    "\n",
    "Therefore, here our null hypothesis would be that IRR would be less than or equal to 0, i.e. that is promotion did not result in significant difference in number of customers buying the product. Whereas, the alternative hypothesis would be that IRR is greater than zero OR that the promotion sent did result in significant difference of purchase for the company. \n",
    "\n",
    "Hence:  $H_{0}: IRR <= 0$ \n",
    "and     $H_{a}: IRR > 0$\n",
    "\n",
    "Moreover, we have also assumed alpha value to be 0.05 for our hyopthesis testing. However, since we are using more than one metric, therefore, we'll perform the bonferroni correction as follows\n",
    "\n",
    "$$ Bonferroni Correction = \\frac{a_{overall}}{number-of-metrics} = \\frac{0.05}{2} = 0.025 $$\n",
    "\n",
    "*IRR depicts how many more customers purchased the product with the promotion, as compared to if they didn't receive the promotion. Mathematically, IRR's the ratio of the number of purchasers in the promotion group to the total number of customers in the purchasers group (_treatment_) minus the ratio of the number of purchasers in the non-promotional group to the total number of customers in the non-promotional group (_control_).*\n",
    "\n",
    "$$ IRR = \\frac{purch_{treat}}{cust_{treat}} - \\frac{purch_{ctrl}}{cust_{ctrl}} $$\n",
    "\n"
   ]
  },
  {
   "cell_type": "code",
   "execution_count": 13,
   "metadata": {
    "scrolled": true
   },
   "outputs": [
    {
     "name": "stdout",
     "output_type": "stream",
     "text": [
      "proportion of customers in total: 0.0123027420919\n",
      "proportion of customers for control group: 0.00756461939768\n",
      "proportion of customers for experimental group: 0.0170191672174\n"
     ]
    }
   ],
   "source": [
    "##Making the Required Calculations for Evaluating the Evaluation Metric\n",
    "# proportion of customers who bought the product\n",
    "\n",
    "proportion_total = train_data.purchase.mean()\n",
    "print('proportion of customers in total:', proportion_total)\n",
    "\n",
    "proportion_control = train_data.query('Promotion == \"No\"').purchase.mean()\n",
    "print('proportion of customers for control group:', proportion_control)\n",
    "\n",
    "proportion_experiment = train_data.query('Promotion == \"Yes\"').purchase.mean()\n",
    "print('proportion of customers for experimental group:', proportion_experiment)\n",
    "\n",
    "##OR::::\n",
    "#These are all accurate calculations too\n",
    "#proportion_tot = (purchase_treat + purchase_control)/ (customer_treat + customer_control)\n",
    "#print('proportion of customers in total:', proportion_total)\n",
    "#purchase_treat = train_data.query('Promotion == \"Yes\"').purchase.sum()\n",
    "#purchase_control = train_data.query('Promotion == \"No\"').purchase.sum()\n",
    "#customer_treat = train_data.query('Promotion == \"Yes\"').shape[0]\n",
    "#customer_control = train_data.query('Promotion == \"No\"').shape[0]"
   ]
  },
  {
   "cell_type": "code",
   "execution_count": 15,
   "metadata": {},
   "outputs": [
    {
     "data": {
      "text/plain": [
       "0.0094545478197727018"
      ]
     },
     "execution_count": 15,
     "metadata": {},
     "output_type": "execute_result"
    }
   ],
   "source": [
    "calculated_IRR = proportion_experiment - proportion_control\n",
    "#calculated_IRR = purchase_treat/customer_treat - purchase_control/customer_control\n",
    "calculated_IRR"
   ]
  },
  {
   "cell_type": "markdown",
   "metadata": {},
   "source": [
    "This calculated IRR is positive which suggests that the promotional campaign did have an effect on purchase of customers. **In order to find out whether that purchase had been significant we'd now perform the hypothesis testing**"
   ]
  },
  {
   "cell_type": "markdown",
   "metadata": {},
   "source": [
    "##### 3.2.1.1 Analytical Approach"
   ]
  },
  {
   "cell_type": "code",
   "execution_count": 16,
   "metadata": {},
   "outputs": [
    {
     "name": "stdout",
     "output_type": "stream",
     "text": [
      "Pooled Standard Error: 0.000758277751287\n",
      "Observed difference in IRR: 0.00945454781977\n",
      "The z_score for the evaluation metric IRR is:12.468449461599388\n",
      "Probability of observing the difference when H0 is True is 0.0\n"
     ]
    }
   ],
   "source": [
    "proportion_pooled = proportion_total\n",
    "\n",
    "standard_error_p = np.sqrt(proportion_pooled * (1-proportion_pooled) * (1/n_control + 1/n_experiment))\n",
    "print('Pooled Standard Error:', standard_error_p)\n",
    "      \n",
    "z_score = calculated_IRR / standard_error_p\n",
    "print('Observed difference in IRR:', calculated_IRR)\n",
    "      \n",
    "print(\"The z_score for the evaluation metric IRR is:{}\".format(z_score))\n",
    "print(\"Probability of observing the difference when H0 is True is {}\".format(1-stats.norm.cdf(z_score)))"
   ]
  },
  {
   "cell_type": "markdown",
   "metadata": {},
   "source": [
    "##### 3.2.1.2 Bootstrapping Approach"
   ]
  },
  {
   "cell_type": "code",
   "execution_count": 17,
   "metadata": {},
   "outputs": [
    {
     "name": "stdout",
     "output_type": "stream",
     "text": [
      "0.0\n"
     ]
    }
   ],
   "source": [
    "n_trials = 20000\n",
    "\n",
    "\n",
    "ctrl_sampled = np.random.binomial(n_control, proportion_total, n_trials)\n",
    "exp_sampled = np.random.binomial(n_experiment, proportion_total, n_trials)\n",
    "samples_IRR = exp_sampled / n_experiment - ctrl_sampled / n_control\n",
    "\n",
    "print((samples_IRR >= (proportion_experiment - proportion_control)).mean())"
   ]
  },
  {
   "cell_type": "code",
   "execution_count": 18,
   "metadata": {},
   "outputs": [
    {
     "data": {
      "image/png": "[encoded data removed]",
      "text/plain": [
       "<matplotlib.figure.Figure at 0x7faf33089710>"
      ]
     },
     "metadata": {
      "needs_background": "light"
     },
     "output_type": "display_data"
    }
   ],
   "source": [
    "plt.axvline(calculated_IRR, color='r', label =\"Observed Statistic\")\n",
    "null_IRR = np.random.normal(0, np.std(samples_IRR), 20000)\n",
    "plt.hist(null_IRR, bins=60)\n",
    "plt.title(\"Normal Distribution under the Null Hypothesis vs Observed Statistic\")\n",
    "plt.legend();"
   ]
  },
  {
   "cell_type": "code",
   "execution_count": 19,
   "metadata": {},
   "outputs": [
    {
     "name": "stdout",
     "output_type": "stream",
     "text": [
      "The P-Value in this instance is: 0.0\n"
     ]
    }
   ],
   "source": [
    "#Calculating p_value for the IRR\n",
    "\n",
    "p_value = 1 - stats.norm.cdf(calculated_IRR, 0, np.std(samples_IRR))\n",
    "print('The P-Value in this instance is:', p_value)"
   ]
  },
  {
   "cell_type": "markdown",
   "metadata": {},
   "source": [
    "**Conclusion**\n",
    "\n",
    "These findings indicate that since the p_value is less than alpha , we **reject the null hypothesis**. *That is, indeed our experiment has shown that there was a significant increase in the purchase with customers to whom the promotion was sent*"
   ]
  },
  {
   "cell_type": "markdown",
   "metadata": {},
   "source": [
    "#### 3.2.2 : Net Incremental Revenue (NIR)"
   ]
  },
  {
   "cell_type": "markdown",
   "metadata": {},
   "source": [
    "\n",
    "* **Evaluation Metric-Net Incremental Revenue (NIR)**\n",
    "\n",
    "Now to test for the evaluation metric of net incremental revenue, we know that net incremental revenue refers to the profit made under the promotional campaign. If the value is positive, this would indicate that indeed there was a net profit as opposed to negative value which would indicate a loss. \n",
    "\n",
    "Therefore: the null hypothesis and alternative hypothesis are as follows:\n",
    "\n",
    "$$H_0: NIR <= 0$$\n",
    "$$H_a: NIR > 0$$\n",
    "\n",
    "This is going to be a one-tailed experiment and the bonferroni correction is as follows:\n",
    "\n",
    "$$ Bonferroni Correction = \\frac{a_{overall}}{number-of-metrics} = \\frac{0.05}{2} = 0.025 $$\n",
    "\n",
    "*NIR depicts how much is made (or lost) by sending out the promotion. Mathematically, this is 10 times the total number of purchasers that received the promotion minus 0.15 times the number of promotions sent out, minus 10 times the number of purchasers who were not given the promotion.*\n",
    "\n",
    "$$ NIR = (10\\cdot purch_{treat} - 0.15 \\cdot cust_{treat}) - 10 \\cdot purch_{ctrl}$$\n"
   ]
  },
  {
   "cell_type": "code",
   "execution_count": 20,
   "metadata": {
    "scrolled": true
   },
   "outputs": [
    {
     "data": {
      "text/plain": [
       "-2334.5999999999995"
      ]
     },
     "execution_count": 20,
     "metadata": {},
     "output_type": "execute_result"
    }
   ],
   "source": [
    "##Making the Required Calculations for Evaluating the Evaluation Metric\n",
    "# proportion of customers who bought the product\n",
    "\n",
    "purchase_treat = train_data.query('Promotion == \"Yes\"').purchase.sum()\n",
    "\n",
    "customer_treat = train_data.query('Promotion == \"Yes\"').shape[0]\n",
    "\n",
    "purchase_control = train_data.query('Promotion == \"No\"').purchase.sum()\n",
    "\n",
    "#Calculation for the NIR is as follows: then:\n",
    "\n",
    "calculated_NIR = (10*purchase_treat - 0.15*customer_treat) - 10*purchase_control\n",
    "calculated_NIR"
   ]
  },
  {
   "cell_type": "markdown",
   "metadata": {},
   "source": [
    "##### 3.2.2.1 Analytical Approach"
   ]
  },
  {
   "cell_type": "code",
   "execution_count": 21,
   "metadata": {},
   "outputs": [
    {
     "name": "stdout",
     "output_type": "stream",
     "text": [
      "Pooled Standard Error: 0.000758277751287\n",
      "Observed difference in NIR: -2334.6\n",
      "The z_score for the evaluation metric NIR is:-3078819.0686574513\n",
      "Probability of observing the difference when H0 is True is 1.0\n"
     ]
    }
   ],
   "source": [
    "proportion_pooled = proportion_total\n",
    "\n",
    "standard_error_p = np.sqrt(proportion_pooled * (1-proportion_pooled) * (1/n_control + 1/n_experiment))\n",
    "print('Pooled Standard Error:', standard_error_p)\n",
    "      \n",
    "z_score = calculated_NIR / standard_error_p\n",
    "print('Observed difference in NIR:', calculated_NIR)\n",
    "      \n",
    "print(\"The z_score for the evaluation metric NIR is:{}\".format(z_score))\n",
    "print(\"Probability of observing the difference when H0 is True is {}\".format(1-stats.norm.cdf(z_score)))"
   ]
  },
  {
   "cell_type": "markdown",
   "metadata": {},
   "source": [
    "##### 3.2.2.2 Bootstrapping Approach"
   ]
  },
  {
   "cell_type": "code",
   "execution_count": 22,
   "metadata": {},
   "outputs": [
    {
     "name": "stdout",
     "output_type": "stream",
     "text": [
      "0.0\n"
     ]
    }
   ],
   "source": [
    "n_trials = 20000\n",
    "\n",
    "ctrl_sampled = np.random.binomial(n_control, proportion_total, n_trials)\n",
    "exp_sampled = np.random.binomial(n_experiment, proportion_total, n_trials)\n",
    "samples_NIR = (10*exp_sampled - 0.15*n_control) - 10*ctrl_sampled\n",
    "\n",
    "print((samples_NIR >= (proportion_experiment - proportion_control)).mean())"
   ]
  },
  {
   "cell_type": "code",
   "execution_count": 23,
   "metadata": {},
   "outputs": [
    {
     "data": {
      "image/png": "[encoded data removed]",
      "text/plain": [
       "<matplotlib.figure.Figure at 0x7faf33085080>"
      ]
     },
     "metadata": {
      "needs_background": "light"
     },
     "output_type": "display_data"
    }
   ],
   "source": [
    "plt.axvline(calculated_NIR, color='r', label =\"Observed Statistic\")\n",
    "null_NIR = np.random.normal(0, np.std(samples_NIR), 20000)\n",
    "plt.hist(null_NIR, bins=60)\n",
    "plt.title(\"Normal Distribution under the Null Hypothesis vs Observed Statistic\")\n",
    "plt.legend();"
   ]
  },
  {
   "cell_type": "code",
   "execution_count": 24,
   "metadata": {},
   "outputs": [
    {
     "name": "stdout",
     "output_type": "stream",
     "text": [
      "The P-Value in this instance is: 1.0\n"
     ]
    }
   ],
   "source": [
    "#Calculating p_value for the IRR\n",
    "\n",
    "p_value = 1 - stats.norm.cdf(calculated_NIR, 0, np.std(samples_NIR))\n",
    "print('The P-Value in this instance is:', p_value)"
   ]
  },
  {
   "cell_type": "markdown",
   "metadata": {},
   "source": [
    "#### Conclusion"
   ]
  },
  {
   "cell_type": "markdown",
   "metadata": {},
   "source": [
    "Since the p_value is more than our alpha , **we fail to reject the null hypothesis**. This indicates that promotional campaign did NOT result in any significant **(NIR)**. Perhaps changing the segment of clients would result in increase for NIR. "
   ]
  },
  {
   "cell_type": "markdown",
   "metadata": {},
   "source": [
    "## 3.3 Model Building"
   ]
  },
  {
   "cell_type": "markdown",
   "metadata": {},
   "source": [
    "#### 3.3.1 Finding Correlation to See Relationship Between Variables"
   ]
  },
  {
   "cell_type": "code",
   "execution_count": 25,
   "metadata": {
    "scrolled": true
   },
   "outputs": [
    {
     "data": {
      "text/html": [
       "<div>\n",
       "<style scoped>\n",
       "    .dataframe tbody tr th:only-of-type {\n",
       "        vertical-align: middle;\n",
       "    }\n",
       "\n",
       "    .dataframe tbody tr th {\n",
       "        vertical-align: top;\n",
       "    }\n",
       "\n",
       "    .dataframe thead th {\n",
       "        text-align: right;\n",
       "    }\n",
       "</style>\n",
       "<table border=\"1\" class=\"dataframe\">\n",
       "  <thead>\n",
       "    <tr style=\"text-align: right;\">\n",
       "      <th></th>\n",
       "      <th>ID</th>\n",
       "      <th>purchase</th>\n",
       "      <th>V1</th>\n",
       "      <th>V2</th>\n",
       "      <th>V3</th>\n",
       "      <th>V4</th>\n",
       "      <th>V5</th>\n",
       "      <th>V6</th>\n",
       "      <th>V7</th>\n",
       "    </tr>\n",
       "  </thead>\n",
       "  <tbody>\n",
       "    <tr>\n",
       "      <th>ID</th>\n",
       "      <td>1.000000</td>\n",
       "      <td>0.006902</td>\n",
       "      <td>-0.004199</td>\n",
       "      <td>-0.002757</td>\n",
       "      <td>0.003296</td>\n",
       "      <td>-0.010600</td>\n",
       "      <td>0.000133</td>\n",
       "      <td>-0.001434</td>\n",
       "      <td>0.001686</td>\n",
       "    </tr>\n",
       "    <tr>\n",
       "      <th>purchase</th>\n",
       "      <td>0.006902</td>\n",
       "      <td>1.000000</td>\n",
       "      <td>-0.004906</td>\n",
       "      <td>-0.001694</td>\n",
       "      <td>-0.006395</td>\n",
       "      <td>0.032245</td>\n",
       "      <td>0.007814</td>\n",
       "      <td>-0.001538</td>\n",
       "      <td>-0.001117</td>\n",
       "    </tr>\n",
       "    <tr>\n",
       "      <th>V1</th>\n",
       "      <td>-0.004199</td>\n",
       "      <td>-0.004906</td>\n",
       "      <td>1.000000</td>\n",
       "      <td>-0.001564</td>\n",
       "      <td>0.003995</td>\n",
       "      <td>0.002568</td>\n",
       "      <td>-0.001196</td>\n",
       "      <td>-0.003672</td>\n",
       "      <td>0.001436</td>\n",
       "    </tr>\n",
       "    <tr>\n",
       "      <th>V2</th>\n",
       "      <td>-0.002757</td>\n",
       "      <td>-0.001694</td>\n",
       "      <td>-0.001564</td>\n",
       "      <td>1.000000</td>\n",
       "      <td>0.001165</td>\n",
       "      <td>0.002848</td>\n",
       "      <td>-0.001046</td>\n",
       "      <td>-0.004156</td>\n",
       "      <td>-0.002293</td>\n",
       "    </tr>\n",
       "    <tr>\n",
       "      <th>V3</th>\n",
       "      <td>0.003296</td>\n",
       "      <td>-0.006395</td>\n",
       "      <td>0.003995</td>\n",
       "      <td>0.001165</td>\n",
       "      <td>1.000000</td>\n",
       "      <td>0.003753</td>\n",
       "      <td>-0.001736</td>\n",
       "      <td>0.004464</td>\n",
       "      <td>0.001135</td>\n",
       "    </tr>\n",
       "    <tr>\n",
       "      <th>V4</th>\n",
       "      <td>-0.010600</td>\n",
       "      <td>0.032245</td>\n",
       "      <td>0.002568</td>\n",
       "      <td>0.002848</td>\n",
       "      <td>0.003753</td>\n",
       "      <td>1.000000</td>\n",
       "      <td>0.003161</td>\n",
       "      <td>0.002552</td>\n",
       "      <td>-0.003176</td>\n",
       "    </tr>\n",
       "    <tr>\n",
       "      <th>V5</th>\n",
       "      <td>0.000133</td>\n",
       "      <td>0.007814</td>\n",
       "      <td>-0.001196</td>\n",
       "      <td>-0.001046</td>\n",
       "      <td>-0.001736</td>\n",
       "      <td>0.003161</td>\n",
       "      <td>1.000000</td>\n",
       "      <td>-0.003043</td>\n",
       "      <td>0.003571</td>\n",
       "    </tr>\n",
       "    <tr>\n",
       "      <th>V6</th>\n",
       "      <td>-0.001434</td>\n",
       "      <td>-0.001538</td>\n",
       "      <td>-0.003672</td>\n",
       "      <td>-0.004156</td>\n",
       "      <td>0.004464</td>\n",
       "      <td>0.002552</td>\n",
       "      <td>-0.003043</td>\n",
       "      <td>1.000000</td>\n",
       "      <td>-0.001398</td>\n",
       "    </tr>\n",
       "    <tr>\n",
       "      <th>V7</th>\n",
       "      <td>0.001686</td>\n",
       "      <td>-0.001117</td>\n",
       "      <td>0.001436</td>\n",
       "      <td>-0.002293</td>\n",
       "      <td>0.001135</td>\n",
       "      <td>-0.003176</td>\n",
       "      <td>0.003571</td>\n",
       "      <td>-0.001398</td>\n",
       "      <td>1.000000</td>\n",
       "    </tr>\n",
       "  </tbody>\n",
       "</table>\n",
       "</div>"
      ],
      "text/plain": [
       "                ID  purchase        V1        V2        V3        V4  \\\n",
       "ID        1.000000  0.006902 -0.004199 -0.002757  0.003296 -0.010600   \n",
       "purchase  0.006902  1.000000 -0.004906 -0.001694 -0.006395  0.032245   \n",
       "V1       -0.004199 -0.004906  1.000000 -0.001564  0.003995  0.002568   \n",
       "V2       -0.002757 -0.001694 -0.001564  1.000000  0.001165  0.002848   \n",
       "V3        0.003296 -0.006395  0.003995  0.001165  1.000000  0.003753   \n",
       "V4       -0.010600  0.032245  0.002568  0.002848  0.003753  1.000000   \n",
       "V5        0.000133  0.007814 -0.001196 -0.001046 -0.001736  0.003161   \n",
       "V6       -0.001434 -0.001538 -0.003672 -0.004156  0.004464  0.002552   \n",
       "V7        0.001686 -0.001117  0.001436 -0.002293  0.001135 -0.003176   \n",
       "\n",
       "                V5        V6        V7  \n",
       "ID        0.000133 -0.001434  0.001686  \n",
       "purchase  0.007814 -0.001538 -0.001117  \n",
       "V1       -0.001196 -0.003672  0.001436  \n",
       "V2       -0.001046 -0.004156 -0.002293  \n",
       "V3       -0.001736  0.004464  0.001135  \n",
       "V4        0.003161  0.002552 -0.003176  \n",
       "V5        1.000000 -0.003043  0.003571  \n",
       "V6       -0.003043  1.000000 -0.001398  \n",
       "V7        0.003571 -0.001398  1.000000  "
      ]
     },
     "execution_count": 25,
     "metadata": {},
     "output_type": "execute_result"
    }
   ],
   "source": [
    "correlations = train_data.corr()\n",
    "correlations"
   ]
  },
  {
   "cell_type": "code",
   "execution_count": 26,
   "metadata": {},
   "outputs": [
    {
     "data": {
      "text/plain": [
       "<matplotlib.axes._subplots.AxesSubplot at 0x7faf32f5b940>"
      ]
     },
     "execution_count": 26,
     "metadata": {},
     "output_type": "execute_result"
    },
    {
     "data": {
      "image/png": "[encoded data removed]",
      "text/plain": [
       "<matplotlib.figure.Figure at 0x7faf32facb70>"
      ]
     },
     "metadata": {
      "needs_background": "light"
     },
     "output_type": "display_data"
    }
   ],
   "source": [
    "fig, ax = plt.subplots(figsize=(9,7))\n",
    "sns.heatmap(correlations, annot = True, square = True, ax = ax)"
   ]
  },
  {
   "cell_type": "markdown",
   "metadata": {},
   "source": [
    "**Findings**: Let us try and make different combinations by multiplying and adding V1 through V7 to make a new gp1 so that values of IRR and NIR are increased"
   ]
  },
  {
   "cell_type": "code",
   "execution_count": 27,
   "metadata": {},
   "outputs": [
    {
     "data": {
      "text/html": [
       "<div>\n",
       "<style scoped>\n",
       "    .dataframe tbody tr th:only-of-type {\n",
       "        vertical-align: middle;\n",
       "    }\n",
       "\n",
       "    .dataframe tbody tr th {\n",
       "        vertical-align: top;\n",
       "    }\n",
       "\n",
       "    .dataframe thead th {\n",
       "        text-align: right;\n",
       "    }\n",
       "</style>\n",
       "<table border=\"1\" class=\"dataframe\">\n",
       "  <thead>\n",
       "    <tr style=\"text-align: right;\">\n",
       "      <th></th>\n",
       "      <th>ID</th>\n",
       "      <th>Promotion</th>\n",
       "      <th>purchase</th>\n",
       "      <th>V1</th>\n",
       "      <th>V2</th>\n",
       "      <th>V3</th>\n",
       "      <th>V4</th>\n",
       "      <th>V5</th>\n",
       "      <th>V6</th>\n",
       "      <th>V7</th>\n",
       "      <th>manipul_1</th>\n",
       "      <th>manipul_2</th>\n",
       "    </tr>\n",
       "  </thead>\n",
       "  <tbody>\n",
       "    <tr>\n",
       "      <th>0</th>\n",
       "      <td>1</td>\n",
       "      <td>No</td>\n",
       "      <td>0</td>\n",
       "      <td>2</td>\n",
       "      <td>30.443518</td>\n",
       "      <td>-1.165083</td>\n",
       "      <td>1</td>\n",
       "      <td>1</td>\n",
       "      <td>3</td>\n",
       "      <td>2</td>\n",
       "      <td>-70.938474</td>\n",
       "      <td>-212.815423</td>\n",
       "    </tr>\n",
       "    <tr>\n",
       "      <th>1</th>\n",
       "      <td>3</td>\n",
       "      <td>No</td>\n",
       "      <td>0</td>\n",
       "      <td>3</td>\n",
       "      <td>32.159350</td>\n",
       "      <td>-0.645617</td>\n",
       "      <td>2</td>\n",
       "      <td>3</td>\n",
       "      <td>2</td>\n",
       "      <td>2</td>\n",
       "      <td>-31.143920</td>\n",
       "      <td>-41.525227</td>\n",
       "    </tr>\n",
       "    <tr>\n",
       "      <th>2</th>\n",
       "      <td>4</td>\n",
       "      <td>No</td>\n",
       "      <td>0</td>\n",
       "      <td>2</td>\n",
       "      <td>30.431659</td>\n",
       "      <td>0.133583</td>\n",
       "      <td>1</td>\n",
       "      <td>1</td>\n",
       "      <td>4</td>\n",
       "      <td>2</td>\n",
       "      <td>8.130330</td>\n",
       "      <td>32.521318</td>\n",
       "    </tr>\n",
       "    <tr>\n",
       "      <th>3</th>\n",
       "      <td>5</td>\n",
       "      <td>No</td>\n",
       "      <td>0</td>\n",
       "      <td>0</td>\n",
       "      <td>26.588914</td>\n",
       "      <td>-0.212728</td>\n",
       "      <td>2</td>\n",
       "      <td>1</td>\n",
       "      <td>4</td>\n",
       "      <td>2</td>\n",
       "      <td>-0.000000</td>\n",
       "      <td>-0.000000</td>\n",
       "    </tr>\n",
       "    <tr>\n",
       "      <th>4</th>\n",
       "      <td>8</td>\n",
       "      <td>Yes</td>\n",
       "      <td>0</td>\n",
       "      <td>3</td>\n",
       "      <td>28.044332</td>\n",
       "      <td>-0.385883</td>\n",
       "      <td>1</td>\n",
       "      <td>1</td>\n",
       "      <td>2</td>\n",
       "      <td>2</td>\n",
       "      <td>-32.465518</td>\n",
       "      <td>-64.931035</td>\n",
       "    </tr>\n",
       "  </tbody>\n",
       "</table>\n",
       "</div>"
      ],
      "text/plain": [
       "   ID Promotion  purchase  V1         V2        V3  V4  V5  V6  V7  manipul_1  \\\n",
       "0   1        No         0   2  30.443518 -1.165083   1   1   3   2 -70.938474   \n",
       "1   3        No         0   3  32.159350 -0.645617   2   3   2   2 -31.143920   \n",
       "2   4        No         0   2  30.431659  0.133583   1   1   4   2   8.130330   \n",
       "3   5        No         0   0  26.588914 -0.212728   2   1   4   2  -0.000000   \n",
       "4   8       Yes         0   3  28.044332 -0.385883   1   1   2   2 -32.465518   \n",
       "\n",
       "    manipul_2  \n",
       "0 -212.815423  \n",
       "1  -41.525227  \n",
       "2   32.521318  \n",
       "3   -0.000000  \n",
       "4  -64.931035  "
      ]
     },
     "execution_count": 27,
     "metadata": {},
     "output_type": "execute_result"
    }
   ],
   "source": [
    "#Making New Columns\n",
    "\n",
    "train_data['manipul_1'] =  train_data.V1*train_data.V2*(train_data.V3)/train_data.V4\n",
    "train_data['manipul_2'] =  train_data.V1*train_data.V2*train_data.V3/train_data.V5*train_data.V6\n",
    "train_data.head(5)"
   ]
  },
  {
   "cell_type": "code",
   "execution_count": 28,
   "metadata": {},
   "outputs": [
    {
     "data": {
      "text/plain": [
       "Promotion  purchase\n",
       "No         0          -0.291197\n",
       "           1           1.988165\n",
       "Yes        0           0.410199\n",
       "           1          -3.756956\n",
       "Name: manipul_1, dtype: float64"
      ]
     },
     "execution_count": 28,
     "metadata": {},
     "output_type": "execute_result"
    }
   ],
   "source": [
    "gp6 = train_data.groupby(['Promotion', 'purchase'])['manipul_1'].mean()\n",
    "gp6"
   ]
  },
  {
   "cell_type": "markdown",
   "metadata": {},
   "source": [
    "Comments : Does this result help preditc the value to some extent? Or are more manipulations needed?"
   ]
  },
  {
   "cell_type": "code",
   "execution_count": 29,
   "metadata": {},
   "outputs": [],
   "source": [
    "# Cells for you to work and document as necessary - \n",
    "# definitely feel free to add more cells as you need"
   ]
  },
  {
   "cell_type": "markdown",
   "metadata": {},
   "source": [
    "### 3.3.2 Creating the Model Prediction"
   ]
  },
  {
   "cell_type": "markdown",
   "metadata": {},
   "source": [
    "#### 3.3.2.1 Taking in Required Data"
   ]
  },
  {
   "cell_type": "code",
   "execution_count": 30,
   "metadata": {},
   "outputs": [],
   "source": [
    "X = train_data.drop(['purchase', 'Promotion', 'ID', 'manipul_1', 'manipul_2'], axis = 1)\n",
    "y = train_data.purchase"
   ]
  },
  {
   "cell_type": "markdown",
   "metadata": {},
   "source": [
    "#### 3.3.2.2 Scaling the Features"
   ]
  },
  {
   "cell_type": "code",
   "execution_count": 39,
   "metadata": {},
   "outputs": [],
   "source": [
    "from sklearn.preprocessing import StandardScaler, MinMaxScaler\n",
    "\n",
    "def scaling(df):\n",
    "    required_cols = ['V1', 'V2', 'V3', 'V4', 'V5', 'V6', 'V7']\n",
    "\n",
    "    for idx, col in enumerate(required_cols):\n",
    "        df[[col]] = StandardScaler().fit_transform(df[[col]])\n",
    "\n",
    "    return df\n",
    "\n",
    "#scaling the features:\n",
    "\n",
    "X = scaling(X)\n",
    "\n",
    "#NOTE: X[[col]] is one column where X[col] is Series; hence the error of StandardScaler\n",
    "#More information at https://stackoverflow.com/questions/58498187/sklearn-transform-error-expected-2d-array-got-1d-array-instead    "
   ]
  },
  {
   "cell_type": "code",
   "execution_count": 40,
   "metadata": {},
   "outputs": [],
   "source": [
    "#from sklearn.preprocessing import LabelEncoder\n",
    "\n",
    "#X[['Promotion']] = LabelEncoder().fit_transform(X[['Promotion']])\n"
   ]
  },
  {
   "cell_type": "markdown",
   "metadata": {},
   "source": [
    "#### 3.3.2.3 Splitting the Data for Validation"
   ]
  },
  {
   "cell_type": "code",
   "execution_count": 41,
   "metadata": {},
   "outputs": [],
   "source": [
    "from sklearn.model_selection import train_test_split\n",
    "\n",
    "X_train, X_val, y_train, y_val = train_test_split(X, y, test_size=0.20, random_state=1)"
   ]
  },
  {
   "cell_type": "markdown",
   "metadata": {},
   "source": [
    "#### 3.3.2.4 Training the Model"
   ]
  },
  {
   "cell_type": "code",
   "execution_count": 42,
   "metadata": {},
   "outputs": [],
   "source": [
    "from sklearn.ensemble import RandomForestClassifier\n",
    "from numpy import mean\n",
    "from numpy import std\n",
    "from sklearn.datasets import make_classification\n",
    "from sklearn.model_selection import cross_val_score\n",
    "from sklearn.model_selection import RepeatedStratifiedKFold\n",
    "\n",
    "model_fitted = RandomForestClassifier()\n",
    "cv = RepeatedStratifiedKFold(n_splits=10, n_repeats=3, random_state=1)\n",
    "#rfc_cv_score = cross_val_score(rfc, X, y, cv=cv, scoring='roc_auc')\n",
    "n_scores = cross_val_score(model_fitted, X_train, y_train, scoring='roc_auc', cv=cv, n_jobs=-1)"
   ]
  },
  {
   "cell_type": "code",
   "execution_count": 43,
   "metadata": {},
   "outputs": [
    {
     "data": {
      "text/plain": [
       "RandomForestClassifier(bootstrap=True, class_weight=None, criterion='gini',\n",
       "            max_depth=None, max_features='auto', max_leaf_nodes=None,\n",
       "            min_impurity_decrease=0.0, min_impurity_split=None,\n",
       "            min_samples_leaf=1, min_samples_split=2,\n",
       "            min_weight_fraction_leaf=0.0, n_estimators=10, n_jobs=1,\n",
       "            oob_score=False, random_state=None, verbose=0,\n",
       "            warm_start=False)"
      ]
     },
     "execution_count": 43,
     "metadata": {},
     "output_type": "execute_result"
    }
   ],
   "source": [
    "model_fitted.fit(X_train, y_train)\n",
    "#predictions = model_fitted.predict(X_test)"
   ]
  },
  {
   "cell_type": "markdown",
   "metadata": {},
   "source": [
    "#### 3.3.2.5 Verifying the Model Trained"
   ]
  },
  {
   "cell_type": "code",
   "execution_count": 46,
   "metadata": {},
   "outputs": [],
   "source": [
    "predictions_valid_data_set = model_fitted.predict(X_val)"
   ]
  },
  {
   "cell_type": "code",
   "execution_count": 47,
   "metadata": {},
   "outputs": [
    {
     "name": "stdout",
     "output_type": "stream",
     "text": [
      "=== All Area_U_Curve Scores ===\n",
      "[ 0.49854555  0.49537641  0.48309912  0.51838652  0.50374842  0.49628188\n",
      "  0.50463874  0.52506688  0.51587605  0.4770085   0.48707391  0.51992296\n",
      "  0.53342744  0.48618627  0.50795938  0.49743332  0.48844548  0.49202139\n",
      "  0.48562659  0.47304535  0.49062092  0.47902274  0.51035317  0.5199194\n",
      "  0.4961179   0.50259253  0.5180238   0.52522923  0.48981072  0.50751682]\n",
      "==========+++++=============\n",
      "accuracy of model is: 0.987519962146\n",
      "========+++++==========\n",
      "[[16696     8]\n",
      " [  203     0]]\n",
      "========+++++==========\n",
      "             precision    recall  f1-score   support\n",
      "\n",
      "          0       0.99      1.00      0.99     16704\n",
      "          1       0.00      0.00      0.00       203\n",
      "\n",
      "avg / total       0.98      0.99      0.98     16907\n",
      "\n"
     ]
    }
   ],
   "source": [
    "from sklearn.metrics import classification_report\n",
    "from sklearn.metrics import confusion_matrix\n",
    "from sklearn.metrics import accuracy_score\n",
    "\n",
    "print(\"=== All Area_U_Curve Scores ===\")\n",
    "print(n_scores)\n",
    "print('==========+++++=============')\n",
    "print(\"accuracy of model is:\", accuracy_score(y_val, predictions_valid_data_set))\n",
    "print(\"========+++++==========\")\n",
    "print(confusion_matrix(y_val, predictions_valid_data_set))\n",
    "print(\"========+++++==========\")\n",
    "print(classification_report(y_val, predictions_valid_data_set))"
   ]
  },
  {
   "cell_type": "markdown",
   "metadata": {},
   "source": [
    "#### 3.3.2.6 Reading In Test Data"
   ]
  },
  {
   "cell_type": "code",
   "execution_count": 48,
   "metadata": {},
   "outputs": [
    {
     "data": {
      "text/html": [
       "<div>\n",
       "<style scoped>\n",
       "    .dataframe tbody tr th:only-of-type {\n",
       "        vertical-align: middle;\n",
       "    }\n",
       "\n",
       "    .dataframe tbody tr th {\n",
       "        vertical-align: top;\n",
       "    }\n",
       "\n",
       "    .dataframe thead th {\n",
       "        text-align: right;\n",
       "    }\n",
       "</style>\n",
       "<table border=\"1\" class=\"dataframe\">\n",
       "  <thead>\n",
       "    <tr style=\"text-align: right;\">\n",
       "      <th></th>\n",
       "      <th>ID</th>\n",
       "      <th>Promotion</th>\n",
       "      <th>purchase</th>\n",
       "      <th>V1</th>\n",
       "      <th>V2</th>\n",
       "      <th>V3</th>\n",
       "      <th>V4</th>\n",
       "      <th>V5</th>\n",
       "      <th>V6</th>\n",
       "      <th>V7</th>\n",
       "    </tr>\n",
       "  </thead>\n",
       "  <tbody>\n",
       "    <tr>\n",
       "      <th>0</th>\n",
       "      <td>2</td>\n",
       "      <td>No</td>\n",
       "      <td>0</td>\n",
       "      <td>1</td>\n",
       "      <td>41.376390</td>\n",
       "      <td>1.172517</td>\n",
       "      <td>1</td>\n",
       "      <td>1</td>\n",
       "      <td>2</td>\n",
       "      <td>2</td>\n",
       "    </tr>\n",
       "    <tr>\n",
       "      <th>1</th>\n",
       "      <td>6</td>\n",
       "      <td>Yes</td>\n",
       "      <td>0</td>\n",
       "      <td>1</td>\n",
       "      <td>25.163598</td>\n",
       "      <td>0.653050</td>\n",
       "      <td>2</td>\n",
       "      <td>2</td>\n",
       "      <td>2</td>\n",
       "      <td>2</td>\n",
       "    </tr>\n",
       "    <tr>\n",
       "      <th>2</th>\n",
       "      <td>7</td>\n",
       "      <td>Yes</td>\n",
       "      <td>0</td>\n",
       "      <td>1</td>\n",
       "      <td>26.553778</td>\n",
       "      <td>-1.597972</td>\n",
       "      <td>2</td>\n",
       "      <td>3</td>\n",
       "      <td>4</td>\n",
       "      <td>2</td>\n",
       "    </tr>\n",
       "    <tr>\n",
       "      <th>3</th>\n",
       "      <td>10</td>\n",
       "      <td>No</td>\n",
       "      <td>0</td>\n",
       "      <td>2</td>\n",
       "      <td>28.529691</td>\n",
       "      <td>-1.078506</td>\n",
       "      <td>2</td>\n",
       "      <td>3</td>\n",
       "      <td>2</td>\n",
       "      <td>2</td>\n",
       "    </tr>\n",
       "    <tr>\n",
       "      <th>4</th>\n",
       "      <td>12</td>\n",
       "      <td>No</td>\n",
       "      <td>0</td>\n",
       "      <td>2</td>\n",
       "      <td>32.378538</td>\n",
       "      <td>0.479895</td>\n",
       "      <td>2</td>\n",
       "      <td>2</td>\n",
       "      <td>1</td>\n",
       "      <td>2</td>\n",
       "    </tr>\n",
       "  </tbody>\n",
       "</table>\n",
       "</div>"
      ],
      "text/plain": [
       "   ID Promotion  purchase  V1         V2        V3  V4  V5  V6  V7\n",
       "0   2        No         0   1  41.376390  1.172517   1   1   2   2\n",
       "1   6       Yes         0   1  25.163598  0.653050   2   2   2   2\n",
       "2   7       Yes         0   1  26.553778 -1.597972   2   3   4   2\n",
       "3  10        No         0   2  28.529691 -1.078506   2   3   2   2\n",
       "4  12        No         0   2  32.378538  0.479895   2   2   1   2"
      ]
     },
     "execution_count": 48,
     "metadata": {},
     "output_type": "execute_result"
    }
   ],
   "source": [
    "test_data = pd.read_csv('./Test.csv')\n",
    "test_data.head()"
   ]
  },
  {
   "cell_type": "code",
   "execution_count": 50,
   "metadata": {},
   "outputs": [],
   "source": [
    "X_test = test_data.drop(['Promotion', 'purchase', 'ID'], axis = 1)\n",
    "y_test = test_data.purchase"
   ]
  },
  {
   "cell_type": "markdown",
   "metadata": {},
   "source": [
    "#### 3.3.2.7 Scaling the Test Features"
   ]
  },
  {
   "cell_type": "code",
   "execution_count": 51,
   "metadata": {},
   "outputs": [],
   "source": [
    "X_test = scaling(X_test)"
   ]
  },
  {
   "cell_type": "markdown",
   "metadata": {},
   "source": [
    "#### 3.3.2.8 Prediction on Test_DataSet"
   ]
  },
  {
   "cell_type": "code",
   "execution_count": 52,
   "metadata": {},
   "outputs": [],
   "source": [
    "predictions_testset = model_fitted.predict(X_test)"
   ]
  },
  {
   "cell_type": "code",
   "execution_count": 53,
   "metadata": {},
   "outputs": [],
   "source": [
    "n_scores_sec = cross_val_score(model_fitted, X_test, y_test, scoring='roc_auc', cv=cv, n_jobs=-1)"
   ]
  },
  {
   "cell_type": "markdown",
   "metadata": {},
   "source": [
    "#### 3.3.2.9 Evaluating the Prediction"
   ]
  },
  {
   "cell_type": "code",
   "execution_count": 55,
   "metadata": {},
   "outputs": [
    {
     "name": "stdout",
     "output_type": "stream",
     "text": [
      "=== All Area_U_Curve Scores ===\n",
      "[ 0.50199883  0.50537153  0.4832554   0.48672931  0.5402599   0.51277731\n",
      "  0.545973    0.54124666  0.49149107  0.49218181  0.51080884  0.52308518\n",
      "  0.50933123  0.53477198  0.50196846  0.48276961  0.50477947  0.50011386\n",
      "  0.50143713  0.47978909  0.49654886  0.48134766  0.4778358   0.54285584\n",
      "  0.49351773  0.53311473  0.50179894  0.50358271  0.49411991  0.49961542]\n",
      "==========+++++=============\n",
      "accuracy of model is: 0.987803121248\n",
      "========+++++==========\n",
      "[[41141    29]\n",
      " [  479     1]]\n",
      "========+++++==========\n",
      "             precision    recall  f1-score   support\n",
      "\n",
      "          0       0.99      1.00      0.99     41170\n",
      "          1       0.03      0.00      0.00       480\n",
      "\n",
      "avg / total       0.98      0.99      0.98     41650\n",
      "\n"
     ]
    }
   ],
   "source": [
    "from sklearn.metrics import classification_report\n",
    "from sklearn.metrics import confusion_matrix\n",
    "from sklearn.metrics import accuracy_score\n",
    "\n",
    "print(\"=== All Area_U_Curve Scores ===\")\n",
    "print(n_scores_sec)\n",
    "print('==========+++++=============')\n",
    "print(\"accuracy of model is:\", accuracy_score(y_test, predictions_testset))\n",
    "print(\"========+++++==========\")\n",
    "print(confusion_matrix(y_test, predictions_testset))\n",
    "print(\"========+++++==========\")\n",
    "print(classification_report(y_test, predictions_testset))"
   ]
  },
  {
   "cell_type": "code",
   "execution_count": 56,
   "metadata": {},
   "outputs": [],
   "source": [
    "def promotion_strategy(df):\n",
    "    '''\n",
    "    INPUT \n",
    "    df - a dataframe with *only* the columns V1 - V7 (same as train_data)\n",
    "\n",
    "    OUTPUT\n",
    "    promotion_df - np.array with the values\n",
    "                   'Yes' or 'No' related to whether or not an \n",
    "                   individual should recieve a promotion \n",
    "                   should be the length of df.shape[0]\n",
    "                \n",
    "    Ex:\n",
    "    INPUT: df\n",
    "    \n",
    "    V1\tV2\t  V3\tV4\tV5\tV6\tV7\n",
    "    2\t30\t-1.1\t1\t1\t3\t2\n",
    "    3\t32\t-0.6\t2\t3\t2\t2\n",
    "    2\t30\t0.13\t1\t1\t4\t2\n",
    "    \n",
    "    OUTPUT: promotion\n",
    "    \n",
    "    array(['Yes', 'Yes', 'No'])\n",
    "    indicating the first two users would recieve the promotion and \n",
    "    the last should not.\n",
    "    '''\n",
    "    min_max_scaler = MinMaxScaler()\n",
    "    df = min_max_scaler.fit_transform(df)\n",
    "    \n",
    "    #X_train, X_val, y_train, y_val = train_test_split(X, y, test_size=0.20, random_state=1)\n",
    "    #model = RandomForestClassifier()\n",
    "    #cv = RepeatedStratifiedKFold(n_splits=10, n_repeats=3, random_state=1)\n",
    "    #n_scores = cross_val_score(model, X_train, y_val, scoring='accuracy', cv=cv, n_jobs=-1)\n",
    "    \n",
    "    y_pred = model_fitted.predict(df)\n",
    "    \n",
    "    promotion_yes_no = []\n",
    "    for value in y_pred:\n",
    "        if value == 0:\n",
    "            promotion_yes_no.append(\"No\")\n",
    "        if value == 1:\n",
    "            promotion_yes_no.append(\"Yes\")\n",
    "            \n",
    "    promotion = np.asarray(promotion_yes_no)\n",
    "    \n",
    "    \n",
    "    \n",
    "    return promotion"
   ]
  },
  {
   "cell_type": "code",
   "execution_count": 57,
   "metadata": {},
   "outputs": [
    {
     "name": "stdout",
     "output_type": "stream",
     "text": [
      "Nice job!  See how well your strategy worked on our test data below!\n",
      "\n",
      "Your irr with this strategy is 0.0000.\n",
      "\n",
      "Your nir with this strategy is -0.30.\n",
      "We came up with a model with an irr of 0.0188 and an nir of 189.45 on the test set.\n",
      "\n",
      " How did you do?\n"
     ]
    },
    {
     "data": {
      "text/plain": [
       "(0.0, -0.29999999999999999)"
      ]
     },
     "execution_count": 57,
     "metadata": {},
     "output_type": "execute_result"
    }
   ],
   "source": [
    "# This will test your results, and provide you back some information \n",
    "# on how well your promotion_strategy will work in practice\n",
    "\n",
    "test_results(promotion_strategy)"
   ]
  },
  {
   "cell_type": "code",
   "execution_count": null,
   "metadata": {},
   "outputs": [],
   "source": []
  }
 ],
 "metadata": {
  "kernelspec": {
   "display_name": "Python 3",
   "language": "python",
   "name": "python3"
  },
  "language_info": {
   "codemirror_mode": {
    "name": "ipython",
    "version": 3
   },
   "file_extension": ".py",
   "mimetype": "text/x-python",
   "name": "python",
   "nbconvert_exporter": "python",
   "pygments_lexer": "ipython3",
   "version": "3.6.3"
  }
 },
 "nbformat": 4,
 "nbformat_minor": 2
}
